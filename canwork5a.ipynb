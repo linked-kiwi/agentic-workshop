{
 "cells": [
  {
   "cell_type": "markdown",
   "id": "f86bbe01-b549-408f-a077-233a69d02b98",
   "metadata": {},
   "source": [
    "## Detecting Hallucinations\n",
    "In this notebook we'll see how we use the KRLabs hallucination detector. This takes a context, and from that determines whether an answer to a question related to that context is a hallucination or not."
   ]
  },
  {
   "cell_type": "markdown",
   "id": "bae8a50b-b6ae-48ea-a504-87bd0e321371",
   "metadata": {},
   "source": [
    "To start, we'll suppress any unecessary warnings."
   ]
  },
  {
   "cell_type": "code",
   "execution_count": 1,
   "id": "5d73c1f6-bb54-41e4-9d08-320887f69328",
   "metadata": {},
   "outputs": [],
   "source": [
    "from warnings import filterwarnings\n",
    "filterwarnings('ignore')"
   ]
  },
  {
   "cell_type": "markdown",
   "id": "15bbf491-c453-4c9b-9122-3bc9dbdcef29",
   "metadata": {},
   "source": [
    "Let's install the lettucedetect library"
   ]
  },
  {
   "cell_type": "code",
   "execution_count": 2,
   "id": "162a2a3f-377f-4906-bbe4-00cfa243f873",
   "metadata": {},
   "outputs": [
    {
     "name": "stdout",
     "output_type": "stream",
     "text": [
      "Note: you may need to restart the kernel to use updated packages.\n"
     ]
    },
    {
     "name": "stderr",
     "output_type": "stream",
     "text": [
      "WARNING: Ignoring invalid distribution ~andas (C:\\Users\\malcolm\\AppData\\Local\\Packages\\PythonSoftwareFoundation.Python.3.11_qbz5n2kfra8p0\\LocalCache\\local-packages\\Python311\\site-packages)\n",
      "WARNING: Ignoring invalid distribution ~andas (C:\\Users\\malcolm\\AppData\\Local\\Packages\\PythonSoftwareFoundation.Python.3.11_qbz5n2kfra8p0\\LocalCache\\local-packages\\Python311\\site-packages)\n",
      "WARNING: Ignoring invalid distribution ~andas (C:\\Users\\malcolm\\AppData\\Local\\Packages\\PythonSoftwareFoundation.Python.3.11_qbz5n2kfra8p0\\LocalCache\\local-packages\\Python311\\site-packages)\n",
      "\n",
      "[notice] A new release of pip is available: 25.0 -> 25.0.1\n",
      "[notice] To update, run: C:\\Users\\malcolm\\AppData\\Local\\Microsoft\\WindowsApps\\PythonSoftwareFoundation.Python.3.11_qbz5n2kfra8p0\\python.exe -m pip install --upgrade pip\n"
     ]
    }
   ],
   "source": [
    "%pip install -q lettucedetect torchvision"
   ]
  },
  {
   "cell_type": "markdown",
   "id": "81b78145-9434-4e98-af65-f7f3abb397e7",
   "metadata": {},
   "source": [
    "We'll now import the hallucination detector from the KRLabs lettucedetect library."
   ]
  },
  {
   "cell_type": "code",
   "execution_count": 3,
   "id": "dc453ba1-60cc-4904-a591-a2138ef753b8",
   "metadata": {},
   "outputs": [],
   "source": [
    "from lettucedetect.models.inference import HallucinationDetector\n",
    "import torch"
   ]
  },
  {
   "cell_type": "markdown",
   "id": "d1b5d01b-7fd9-4b9c-adf1-dcf8ac483c4c",
   "metadata": {},
   "source": [
    "We can now set up a handle to the hallucination detector, and set our device to cuda as we have a GPU"
   ]
  },
  {
   "cell_type": "code",
   "execution_count": null,
   "id": "27af53aa-b20e-417d-b2f3-c9df42dabbd5",
   "metadata": {},
   "outputs": [],
   "source": [
    "torch.device('cuda')\n",
    "dt = HallucinationDetector(\n",
    "   method=\"transformer\",\n",
    "   model_path=\"KRLabsOrg/lettucedect-base-modernbert-en-v1\"\n",
    ")"
   ]
  },
  {
   "cell_type": "markdown",
   "id": "6c1b1aae-f40b-446d-a368-d280da632177",
   "metadata": {},
   "source": [
    "Let's set up a simple context together with a question and answer."
   ]
  },
  {
   "cell_type": "code",
   "execution_count": null,
   "id": "7313fedd-028b-4b69-b6f8-82e0d38592ad",
   "metadata": {},
   "outputs": [],
   "source": [
    "context  = [\"\"\"\n",
    "   France is a country in Europe. New Zealand is a country in Oceania, as is Australia.\n",
    "   The capital of France is Paris. The population of France is 67 million.\n",
    "   New Zealand has a population of 5 million. It's capital is Wellington.\n",
    "   Australia's capital is Canberra. The population of Australia is 25 million.\n",
    "\"\"\"]\n",
    "question = \"What is the capital of France? What is the population of France?\"\n",
    "answer   = \"The population of France is 67 million.\""
   ]
  },
  {
   "cell_type": "markdown",
   "id": "1e00b8ea-e217-4472-a347-56bf68957697",
   "metadata": {},
   "source": [
    "We'll now run the prediction with this scenario."
   ]
  },
  {
   "cell_type": "code",
   "execution_count": null,
   "id": "eebb33f1-4c62-4b4b-ac97-153b2d1eb32c",
   "metadata": {},
   "outputs": [],
   "source": [
    "chx = dt.predict(context=context, question=question, answer=answer, output_format=\"spans\")\n",
    "print(chx)"
   ]
  },
  {
   "cell_type": "markdown",
   "id": "f7ca29a2-e9f5-46ed-8ac7-d1ed553c8b00",
   "metadata": {},
   "source": [
    "This works, and we get an empty string. Let's change the answer and run the prediction again."
   ]
  },
  {
   "cell_type": "code",
   "execution_count": null,
   "id": "8ddcbb38-c4e5-40cd-80d4-b0cb10d07b4f",
   "metadata": {},
   "outputs": [],
   "source": [
    "answer = \"Paris is the capital of France, and the population of France is 5 million.\"\n",
    "chx = dt.predict(context=context, question=question, answer=answer, output_format=\"spans\")\n",
    "print(chx)"
   ]
  },
  {
   "cell_type": "markdown",
   "id": "df814210-0922-4c25-967e-de25a1e83a87",
   "metadata": {},
   "source": [
    "The first phrase of this answer is correct, but it hallucinates about the population. The result provides a location and the text of the hallucinating content. \n",
    "Let's see what it thinks of Vogon poetry."
   ]
  },
  {
   "cell_type": "code",
   "execution_count": null,
   "id": "e908408a-0660-4449-821b-cf0fd07f2c5d",
   "metadata": {},
   "outputs": [],
   "source": [
    "answer = \"Oh freddled gruntbuggly, thy micturitions are to me as plurdled gobblebotchits.\"\n",
    "chx = dt.predict(context=context, question=question, answer=answer, output_format=\"spans\")\n",
    "print(chx)"
   ]
  },
  {
   "cell_type": "code",
   "execution_count": null,
   "id": "dcf22798-c423-4659-ab6a-072b4fd3eefa",
   "metadata": {},
   "outputs": [],
   "source": []
  }
 ],
 "metadata": {
  "kernelspec": {
   "display_name": "Python 3 (ipykernel)",
   "language": "python",
   "name": "python3"
  },
  "language_info": {
   "codemirror_mode": {
    "name": "ipython",
    "version": 3
   },
   "file_extension": ".py",
   "mimetype": "text/x-python",
   "name": "python",
   "nbconvert_exporter": "python",
   "pygments_lexer": "ipython3",
   "version": "3.11.9"
  }
 },
 "nbformat": 4,
 "nbformat_minor": 5
}
