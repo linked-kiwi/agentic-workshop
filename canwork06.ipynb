{
 "cells": [
  {
   "cell_type": "markdown",
   "id": "d3406a23-758d-4a3a-b48e-f8d83077c562",
   "metadata": {
    "id": "d3406a23-758d-4a3a-b48e-f8d83077c562"
   },
   "source": [
    "### Simple Example of AutoGen\n",
    "Microsoft's AutoGen for building agents is an extensive framework with pre-defined agent types, tools, and extensions. In this notebook we'll walk through a simple conversational agent using Gemini as our LLM."
   ]
  },
  {
   "cell_type": "markdown",
   "id": "-7oCKcGjN8_t",
   "metadata": {
    "id": "-7oCKcGjN8_t"
   },
   "source": [
    "Let's start by suppressing all unecessary warnings"
   ]
  },
  {
   "cell_type": "code",
   "execution_count": 11,
   "id": "kuZ5PhsBM62p",
   "metadata": {
    "id": "kuZ5PhsBM62p"
   },
   "outputs": [],
   "source": [
    "from warnings import filterwarnings\n",
    "filterwarnings('ignore')"
   ]
  },
  {
   "cell_type": "markdown",
   "id": "5adPw3NzOBaK",
   "metadata": {
    "id": "5adPw3NzOBaK"
   },
   "source": [
    "Now let's install the libraries we'll be using"
   ]
  },
  {
   "cell_type": "code",
   "execution_count": null,
   "id": "1770d9cb-779d-432f-924e-ea0fa5f8ef2c",
   "metadata": {
    "id": "1770d9cb-779d-432f-924e-ea0fa5f8ef2c"
   },
   "outputs": [],
   "source": [
    "%pip -q install autogen autogen-agentchat[llm,gemini]~=0.2"
   ]
  },
  {
   "cell_type": "markdown",
   "id": "xeX4czfPLnFG",
   "metadata": {
    "id": "xeX4czfPLnFG"
   },
   "source": [
    "Load the libraries and set the Gemini API key in the configuration.  \n",
    "Remember to upload the ag_config.json file before running."
   ]
  },
  {
   "cell_type": "code",
   "execution_count": 13,
   "id": "a5e7012b-14a7-48f8-8e95-23b7910351c9",
   "metadata": {
    "id": "a5e7012b-14a7-48f8-8e95-23b7910351c9"
   },
   "outputs": [],
   "source": [
    "from google.colab import userdata\n",
    "from autogen import ConversableAgent\n",
    "import autogen\n",
    "\n",
    "config_list_gemini = autogen.config_list_from_json(\"ag_config.json\")\n",
    "config_list_gemini[0]['api_key'] = userdata.get('GOOGLE_API_KEY')\n",
    "config_list_gemini[1]['api_key'] = userdata.get('GOOGLE_API_KEY')"
   ]
  },
  {
   "cell_type": "markdown",
   "id": "1IXLuh3GLto7",
   "metadata": {
    "id": "1IXLuh3GLto7"
   },
   "source": [
    "Create an AutoGen Conversable Agent called Alice"
   ]
  },
  {
   "cell_type": "code",
   "execution_count": 14,
   "id": "c9a9db31-a4b6-4d0d-bea4-b0c7b3ff8339",
   "metadata": {
    "id": "c9a9db31-a4b6-4d0d-bea4-b0c7b3ff8339"
   },
   "outputs": [],
   "source": [
    "agent = ConversableAgent(\n",
    "    name='Alice',\n",
    "    llm_config={\"config_list\":config_list_gemini},\n",
    "    code_execution_config=False,\n",
    "    human_input_mode=\"NEVER\",\n",
    "    function_map=None\n",
    ")"
   ]
  },
  {
   "cell_type": "markdown",
   "id": "jg8dsv36L5mr",
   "metadata": {
    "id": "jg8dsv36L5mr"
   },
   "source": [
    "Ask Alice who she is"
   ]
  },
  {
   "cell_type": "code",
   "execution_count": null,
   "id": "0ca323f7-ea73-4c56-8c44-fc25809f6533",
   "metadata": {
    "id": "0ca323f7-ea73-4c56-8c44-fc25809f6533"
   },
   "outputs": [],
   "source": [
    "reply = agent.generate_reply(\n",
    "    messages=[{\"content\":\"Who are you?\",\"role\":\"user\"}]\n",
    ")\n",
    "print(reply['content'])"
   ]
  }
 ],
 "metadata": {
  "accelerator": "GPU",
  "colab": {
   "gpuType": "T4",
   "provenance": []
  },
  "kernelspec": {
   "display_name": "Python 3 (ipykernel)",
   "language": "python",
   "name": "python3"
  },
  "language_info": {
   "codemirror_mode": {
    "name": "ipython",
    "version": 3
   },
   "file_extension": ".py",
   "mimetype": "text/x-python",
   "name": "python",
   "nbconvert_exporter": "python",
   "pygments_lexer": "ipython3",
   "version": "3.11.9"
  }
 },
 "nbformat": 4,
 "nbformat_minor": 5
}
