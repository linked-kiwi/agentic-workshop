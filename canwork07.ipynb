{
  "cells": [
    {
      "cell_type": "markdown",
      "id": "522b3787-1610-4beb-af15-eca666af7afb",
      "metadata": {
        "id": "522b3787-1610-4beb-af15-eca666af7afb"
      },
      "source": [
        "### Agent Ideation with AutoGen\n",
        "\n",
        "Let's build an agent which uses two LLMs to debate ideas based on an instruction from the user. For this agent we'll use Microsoft's AutoGen agentic framework and OpenAI."
      ]
    },
    {
      "cell_type": "markdown",
      "id": "758132bd-6f8b-4ce5-b280-4e33d83e337d",
      "metadata": {
        "id": "758132bd-6f8b-4ce5-b280-4e33d83e337d"
      },
      "source": [
        "Let's suppress as much of the warning output as we can."
      ]
    },
    {
      "cell_type": "code",
      "execution_count": 1,
      "id": "8376c909-bdb1-4f54-9dfd-9623107a5f79",
      "metadata": {
        "id": "8376c909-bdb1-4f54-9dfd-9623107a5f79"
      },
      "outputs": [],
      "source": [
        "from warnings import filterwarnings\n",
        "filterwarnings('ignore')"
      ]
    },
    {
      "cell_type": "markdown",
      "id": "1e32175d-720e-4481-9b26-a71cc09ef47e",
      "metadata": {
        "id": "1e32175d-720e-4481-9b26-a71cc09ef47e"
      },
      "source": [
        "We'll install the two AutoGen libraries that we need."
      ]
    },
    {
      "cell_type": "code",
      "execution_count": null,
      "id": "91f3a3ec-9905-44c0-b9e7-c5121019071b",
      "metadata": {
        "id": "91f3a3ec-9905-44c0-b9e7-c5121019071b"
      },
      "outputs": [],
      "source": [
        "%pip -q install -U autogen-agentchat\n",
        "%pip -q install autogen-ext[openai]"
      ]
    },
    {
      "cell_type": "markdown",
      "id": "42a68e01-9a79-4977-ac99-8cc63bee815c",
      "metadata": {
        "id": "42a68e01-9a79-4977-ac99-8cc63bee815c"
      },
      "source": [
        "We can now import the libraries we'll be using in our agent"
      ]
    },
    {
      "cell_type": "code",
      "execution_count": 5,
      "id": "481950ff-9d6d-4fdb-bedd-b937034dde6a",
      "metadata": {
        "id": "481950ff-9d6d-4fdb-bedd-b937034dde6a"
      },
      "outputs": [],
      "source": [
        "import asyncio, os\n",
        "\n",
        "from autogen_agentchat.agents import AssistantAgent\n",
        "from autogen_agentchat.base import TaskResult\n",
        "from autogen_agentchat.conditions import ExternalTermination, TextMentionTermination\n",
        "from autogen_agentchat.teams import RoundRobinGroupChat\n",
        "from autogen_agentchat.ui import Console\n",
        "from autogen_core import CancellationToken\n",
        "from autogen_ext.models.openai import OpenAIChatCompletionClient\n",
        "from google.colab import userdata"
      ]
    },
    {
      "cell_type": "markdown",
      "id": "7230fd1a-e847-4cef-bfc5-a8c7e5d72024",
      "metadata": {
        "id": "7230fd1a-e847-4cef-bfc5-a8c7e5d72024"
      },
      "source": [
        "We'll fetch the OpenAI environment variable and set up a handle to OpenAI."
      ]
    },
    {
      "cell_type": "code",
      "execution_count": 6,
      "id": "94f2eba8-f19b-4057-aed9-3f9518af3370",
      "metadata": {
        "id": "94f2eba8-f19b-4057-aed9-3f9518af3370"
      },
      "outputs": [],
      "source": [
        "api_key = userdata.get('OPENAI_API_KEY')\n",
        "# Create an OpenAI model client.\n",
        "model_client = OpenAIChatCompletionClient(\n",
        "    model=\"gpt-4o-mini\",\n",
        "    api_key=api_key,\n",
        ")"
      ]
    },
    {
      "cell_type": "markdown",
      "id": "02b2b536-d0d2-4668-abfb-fc5ac389aafb",
      "metadata": {
        "id": "02b2b536-d0d2-4668-abfb-fc5ac389aafb"
      },
      "source": [
        "We'll create two agents, one to generate ideas and the second to review them."
      ]
    },
    {
      "cell_type": "code",
      "execution_count": 7,
      "id": "b870cb52-8598-4221-b045-528ffafd8e1c",
      "metadata": {
        "id": "b870cb52-8598-4221-b045-528ffafd8e1c"
      },
      "outputs": [],
      "source": [
        "primary_agent = AssistantAgent(\n",
        "    \"Alice\",\n",
        "    model_client=model_client,\n",
        "    system_message=\"You are a participant in an ideation and feedback session. You will be provided with a problem statement and asked to generate ideas. Your ideas will be\\\n",
        "    reviwed by another participant and then you together will narrow down ideas by debating over them. Respond with 'FINALIZE' when you have a final idea.\",\n",
        ")\n",
        "\n",
        "critic_agent = AssistantAgent(\n",
        "    \"Bob\",\n",
        "    model_client=model_client,\n",
        "    system_message=\"You are a participant in an ideation and feedback session. Your teammate will be provide some ideas that you need to review with your \\\n",
        "        teammate and narrow down ideas by debating over them. Respond with 'FINALIZE' when you have a final idea.\",\n",
        ")"
      ]
    },
    {
      "cell_type": "markdown",
      "id": "27f807c6-be55-4127-a2c7-b4c6fd64027c",
      "metadata": {
        "id": "27f807c6-be55-4127-a2c7-b4c6fd64027c"
      },
      "source": [
        "We can now create the chain of agents and specify the termination condition"
      ]
    },
    {
      "cell_type": "code",
      "execution_count": 8,
      "id": "0304cac2-a63d-4adb-9576-fb34ee1d4821",
      "metadata": {
        "id": "0304cac2-a63d-4adb-9576-fb34ee1d4821"
      },
      "outputs": [],
      "source": [
        "team = RoundRobinGroupChat([primary_agent, critic_agent], termination_condition=TextMentionTermination(\"FINALIZE\"))"
      ]
    },
    {
      "cell_type": "markdown",
      "id": "485297e1-b6b3-485a-a013-2f5982280a59",
      "metadata": {
        "id": "485297e1-b6b3-485a-a013-2f5982280a59"
      },
      "source": [
        "We've got our chain of agents (the 'team') set up so let's get them started ideating.  \n",
        "We'll display their conversation as they go."
      ]
    },
    {
      "cell_type": "code",
      "execution_count": null,
      "id": "12396cbb-534c-47c7-a91f-3dfd4a6f5f2b",
      "metadata": {
        "id": "12396cbb-534c-47c7-a91f-3dfd4a6f5f2b"
      },
      "outputs": [],
      "source": [
        "result = await team.run(task=\"Generate ideas for applications of AI in a veterenarian practice.\")\n",
        "for message in result.messages:\n",
        "        print(\"\\033[1m \"+message.source+\"\\033[0m \"+message.content+\"\\n\")"
      ]
    },
    {
      "cell_type": "code",
      "execution_count": null,
      "id": "83cdd0a9-52b6-4b5a-be14-897cbadbbb8f",
      "metadata": {
        "id": "83cdd0a9-52b6-4b5a-be14-897cbadbbb8f"
      },
      "outputs": [],
      "source": []
    }
  ],
  "metadata": {
    "kernelspec": {
      "display_name": "Python 3 (ipykernel)",
      "language": "python",
      "name": "python3"
    },
    "language_info": {
      "codemirror_mode": {
        "name": "ipython",
        "version": 3
      },
      "file_extension": ".py",
      "mimetype": "text/x-python",
      "name": "python",
      "nbconvert_exporter": "python",
      "pygments_lexer": "ipython3",
      "version": "3.11.9"
    },
    "colab": {
      "provenance": []
    }
  },
  "nbformat": 4,
  "nbformat_minor": 5
}