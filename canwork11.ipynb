{
  "cells": [
    {
      "cell_type": "markdown",
      "id": "19142bcc-7f7a-4d43-b959-b6f760b2805c",
      "metadata": {
        "id": "19142bcc-7f7a-4d43-b959-b6f760b2805c"
      },
      "source": [
        "## OpenAI Agents Framework\n",
        "This notebook demonstrates the use of the OpenAI Agents framework to create a set of subject matter teachers. The agent also incldues a guardrail set to make sure only homework questions are asked."
      ]
    },
    {
      "cell_type": "markdown",
      "id": "8ddaf81f-46f0-4138-b0d4-ac641965f0d6",
      "metadata": {
        "id": "8ddaf81f-46f0-4138-b0d4-ac641965f0d6"
      },
      "source": [
        "Let's start by supressing unwanted output."
      ]
    },
    {
      "cell_type": "code",
      "execution_count": null,
      "id": "d1be20b3-455e-4677-ba35-0c5b7104a502",
      "metadata": {
        "id": "d1be20b3-455e-4677-ba35-0c5b7104a502"
      },
      "outputs": [],
      "source": [
        "from warnings import filterwarnings\n",
        "filterwarnings('ignore')"
      ]
    },
    {
      "cell_type": "markdown",
      "id": "8c08bac4-548d-460d-b5cc-97fba6a2ff91",
      "metadata": {
        "id": "8c08bac4-548d-460d-b5cc-97fba6a2ff91"
      },
      "source": [
        "We'll need to load the openai and open ai agents libraries"
      ]
    },
    {
      "cell_type": "code",
      "execution_count": null,
      "id": "69c4dd3b-d883-4006-8af9-4c16f7c84286",
      "metadata": {
        "id": "69c4dd3b-d883-4006-8af9-4c16f7c84286"
      },
      "outputs": [],
      "source": [
        "%pip install openai-agents"
      ]
    },
    {
      "cell_type": "markdown",
      "id": "39d3f47d-af40-414b-8462-677243df1078",
      "metadata": {
        "id": "39d3f47d-af40-414b-8462-677243df1078"
      },
      "source": [
        "We'll now import the Agent module into our code. We'll also import the guardrail and agent runner which we'll be using and the base model class.  We'll also make sure we have our OpenAI API key set up ready to go."
      ]
    },
    {
      "cell_type": "code",
      "execution_count": null,
      "id": "3723ace3-4340-47c7-ba9e-510963b78997",
      "metadata": {
        "id": "3723ace3-4340-47c7-ba9e-510963b78997"
      },
      "outputs": [],
      "source": [
        "from agents import Agent, InputGuardrail, GuardrailFunctionOutput, Runner\n",
        "from pydantic import BaseModel\n",
        "import os, asyncio\n",
        "from google.colab import userdata\n",
        "\n",
        "os.environ['OPENAI_API_KEY'] = userdata.get('OPENAI_API_KEY')"
      ]
    },
    {
      "cell_type": "markdown",
      "id": "8164d5bf-bcb3-4272-8ad6-c087adce0835",
      "metadata": {
        "id": "8164d5bf-bcb3-4272-8ad6-c087adce0835"
      },
      "source": [
        "We'll define a homework base model and give it two roles plus a guardrail."
      ]
    },
    {
      "cell_type": "code",
      "execution_count": null,
      "id": "af3020a6-9125-49a5-b823-abd5a14e1167",
      "metadata": {
        "id": "af3020a6-9125-49a5-b823-abd5a14e1167"
      },
      "outputs": [],
      "source": [
        "class HomeworkOutput(BaseModel):\n",
        "    is_homework: bool\n",
        "    reasoning: str\n",
        "\n",
        "guardrail_agent = Agent(\n",
        "    name=\"Guardrail check\",\n",
        "    instructions=\"Check if the user is asking about homework.\",\n",
        "    output_type=HomeworkOutput,\n",
        ")\n",
        "history_tutor_agent = Agent(\n",
        "    name=\"History Tutor\",\n",
        "    handoff_description=\"Specialist agent for historical questions\",\n",
        "    instructions=\"You provide assistance with historical queries. Explain important events and context clearly.\",\n",
        ")\n",
        "\n",
        "math_tutor_agent = Agent(\n",
        "    name=\"Math Tutor\",\n",
        "    handoff_description=\"Specialist agent for math questions\",\n",
        "    instructions=\"You provide help with math problems. Explain your reasoning at each step and include examples\",\n",
        ")\n"
      ]
    },
    {
      "cell_type": "markdown",
      "id": "0800b210-022f-4bce-9759-ee56611d1d0a",
      "metadata": {
        "id": "0800b210-022f-4bce-9759-ee56611d1d0a"
      },
      "source": [
        "We'll define the guardrail function"
      ]
    },
    {
      "cell_type": "code",
      "execution_count": null,
      "id": "2f5f3cd1-98fa-42df-840c-51b2413faec3",
      "metadata": {
        "id": "2f5f3cd1-98fa-42df-840c-51b2413faec3"
      },
      "outputs": [],
      "source": [
        "async def homework_guardrail(ctx, agent, input_data):\n",
        "    result = await Runner.run(guardrail_agent, input_data, context=ctx.context)\n",
        "    final_output = result.final_output_as(HomeworkOutput)\n",
        "    return GuardrailFunctionOutput(\n",
        "        output_info=final_output,\n",
        "        tripwire_triggered=not final_output.is_homework,\n",
        "    )"
      ]
    },
    {
      "cell_type": "markdown",
      "id": "53d49583-d20b-4c82-8aaf-86c8c71d508d",
      "metadata": {
        "id": "53d49583-d20b-4c82-8aaf-86c8c71d508d"
      },
      "source": [
        "We'll now define the hand-offs between the agents"
      ]
    },
    {
      "cell_type": "code",
      "execution_count": null,
      "id": "fb9a842e-5b1e-42f3-9715-5bfefa075bf6",
      "metadata": {
        "id": "fb9a842e-5b1e-42f3-9715-5bfefa075bf6"
      },
      "outputs": [],
      "source": [
        "triage_agent = Agent(\n",
        "    name=\"Triage Agent\",\n",
        "    instructions=\"You determine which agent to use based on the user's homework question\",\n",
        "    handoffs=[history_tutor_agent, math_tutor_agent],\n",
        "    input_guardrails=[\n",
        "        InputGuardrail(guardrail_function=homework_guardrail),\n",
        "    ],\n",
        ")"
      ]
    },
    {
      "cell_type": "markdown",
      "id": "d5181ed4-96aa-443f-9992-214bcb763a48",
      "metadata": {
        "id": "d5181ed4-96aa-443f-9992-214bcb763a48"
      },
      "source": [
        "We can now define our asynchronous mainline function"
      ]
    },
    {
      "cell_type": "code",
      "execution_count": null,
      "id": "0e2b0cad-66d1-43cb-892d-e21713d4ab6e",
      "metadata": {
        "id": "0e2b0cad-66d1-43cb-892d-e21713d4ab6e"
      },
      "outputs": [],
      "source": [
        "async def main(question):\n",
        "   try:\n",
        "      result = await Runner.run(triage_agent, question)\n",
        "      print(result.final_output)\n",
        "   except:\n",
        "      print(\"Guardrail triggered - this is not a homework question\")"
      ]
    },
    {
      "cell_type": "markdown",
      "id": "01b543bf-460f-446e-8ecd-e2a1c3c3dea0",
      "metadata": {
        "id": "01b543bf-460f-446e-8ecd-e2a1c3c3dea0"
      },
      "source": [
        "Let's now ask our agent a question."
      ]
    },
    {
      "cell_type": "code",
      "execution_count": null,
      "id": "01ada27a-ba73-4326-b1de-bc01e0c6f808",
      "metadata": {
        "id": "01ada27a-ba73-4326-b1de-bc01e0c6f808"
      },
      "outputs": [],
      "source": [
        "if __name__ == \"__main__\":\n",
        "    question = \"Tell me about how to calulate the diameter of a circle\"\n",
        "    await main(question)"
      ]
    },
    {
      "cell_type": "markdown",
      "id": "3367fb3f-ed61-46d9-94d0-e2c3cad381e1",
      "metadata": {
        "id": "3367fb3f-ed61-46d9-94d0-e2c3cad381e1"
      },
      "source": [
        "Let's do that again with a question that is not about homework."
      ]
    },
    {
      "cell_type": "code",
      "execution_count": null,
      "id": "9b60e744-f547-4c67-a63a-15ece4946f7b",
      "metadata": {
        "id": "9b60e744-f547-4c67-a63a-15ece4946f7b"
      },
      "outputs": [],
      "source": [
        "if __name__ == \"__main__\":\n",
        "    question = \"Tell me about Taylor Swift's upcoming concert schedule\"\n",
        "    await main(question)"
      ]
    }
  ],
  "metadata": {
    "kernelspec": {
      "display_name": "Python 3 (ipykernel)",
      "language": "python",
      "name": "python3"
    },
    "language_info": {
      "codemirror_mode": {
        "name": "ipython",
        "version": 3
      },
      "file_extension": ".py",
      "mimetype": "text/x-python",
      "name": "python",
      "nbconvert_exporter": "python",
      "pygments_lexer": "ipython3",
      "version": "3.11.9"
    },
    "colab": {
      "provenance": []
    }
  },
  "nbformat": 4,
  "nbformat_minor": 5
}