{
  "cells": [
    {
      "cell_type": "markdown",
      "id": "f1b3cb87-f459-428d-8af4-7fcffd207dc2",
      "metadata": {
        "id": "f1b3cb87-f459-428d-8af4-7fcffd207dc2"
      },
      "source": [
        "## Build a Chatbot\n",
        "This lab demonstrates how to build a chatbot using basic access to the Google Gemini model."
      ]
    },
    {
      "cell_type": "markdown",
      "id": "42a073e4-b410-4eb8-b575-d1e68f984a65",
      "metadata": {
        "id": "42a073e4-b410-4eb8-b575-d1e68f984a65"
      },
      "source": [
        "Let's load the libraries we need and set up our Google API key to enable access.  Set this up in the secrets vault before running the code."
      ]
    },
    {
      "cell_type": "code",
      "execution_count": 3,
      "id": "318bff5d-a95a-4925-8e8b-fc3ffb30ee71",
      "metadata": {
        "id": "318bff5d-a95a-4925-8e8b-fc3ffb30ee71"
      },
      "outputs": [],
      "source": [
        "import google.generativeai as genai\n",
        "from google.colab import userdata\n",
        "genai.configure(api_key=userdata.get('GOOGLE_API_KEY'))"
      ]
    },
    {
      "cell_type": "markdown",
      "id": "63d6d4e3-3032-4e75-9374-90578c96540b",
      "metadata": {
        "id": "63d6d4e3-3032-4e75-9374-90578c96540b"
      },
      "source": [
        "We'll set up a handle to our Gemini connection and request the online Gemini 2.0 Flash model."
      ]
    },
    {
      "cell_type": "code",
      "execution_count": 4,
      "id": "4f0c4c52-e64e-487d-8c8b-3add65aae131",
      "metadata": {
        "id": "4f0c4c52-e64e-487d-8c8b-3add65aae131"
      },
      "outputs": [],
      "source": [
        "model = genai.GenerativeModel(\"gemini-2.0-flash\")"
      ]
    },
    {
      "cell_type": "markdown",
      "source": [
        "Let's hard code a prompt, send it to Gemini, and print the result."
      ],
      "metadata": {
        "id": "RlnnYQTxst97"
      },
      "id": "RlnnYQTxst97"
    },
    {
      "cell_type": "code",
      "source": [
        "prompt = \"How many moons are there orbiting Saturn?\"\n",
        "response = model.generate_content(prompt)\n",
        "print(response.text)"
      ],
      "metadata": {
        "id": "GVHge09psxHz"
      },
      "id": "GVHge09psxHz",
      "execution_count": null,
      "outputs": []
    }
  ],
  "metadata": {
    "kernelspec": {
      "display_name": "Python 3 (ipykernel)",
      "language": "python",
      "name": "python3"
    },
    "language_info": {
      "codemirror_mode": {
        "name": "ipython",
        "version": 3
      },
      "file_extension": ".py",
      "mimetype": "text/x-python",
      "name": "python",
      "nbconvert_exporter": "python",
      "pygments_lexer": "ipython3",
      "version": "3.11.9"
    },
    "colab": {
      "provenance": []
    }
  },
  "nbformat": 4,
  "nbformat_minor": 5
}