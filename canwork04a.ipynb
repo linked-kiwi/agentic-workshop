{
 "cells": [
  {
   "cell_type": "markdown",
   "id": "e6b9ddc3-198a-42b6-9afe-97ab525f2cae",
   "metadata": {},
   "source": [
    "## OpenAI Integrated Websearch\n",
    "The latest responses API provided by OpenAI has an integrated web search capability.  Let's check it out."
   ]
  },
  {
   "cell_type": "markdown",
   "id": "5716c378-842d-4c6b-a1ae-b46b19f2912c",
   "metadata": {},
   "source": [
    "We'll start by removing unecessary output."
   ]
  },
  {
   "cell_type": "code",
   "execution_count": null,
   "id": "ad05e3df-2cec-4053-ac49-391ad50cce3a",
   "metadata": {},
   "outputs": [],
   "source": [
    "from warnings import filterwarnings\n",
    "filterwarnings('ignore')"
   ]
  },
  {
   "cell_type": "markdown",
   "id": "78c6d545-d73a-4132-be08-2730bad1ff29",
   "metadata": {},
   "source": [
    "We'll install the openai library (if we haven't already got it loaded)."
   ]
  },
  {
   "cell_type": "code",
   "execution_count": null,
   "id": "dbe4065d-b7e4-4be4-be34-8c0bfefb886e",
   "metadata": {},
   "outputs": [],
   "source": [
    "%pip install -q openai"
   ]
  },
  {
   "cell_type": "markdown",
   "id": "f2b67d33-83bb-493a-9b9d-fe10ab64fd8d",
   "metadata": {},
   "source": [
    "Let's import the OpenAI module and set up a client handle."
   ]
  },
  {
   "cell_type": "code",
   "execution_count": null,
   "id": "fb88baa1-ab1b-4373-845c-56889096c7e2",
   "metadata": {},
   "outputs": [],
   "source": [
    "from openai import OpenAI\n",
    "client = OpenAI()"
   ]
  },
  {
   "cell_type": "markdown",
   "id": "de66c3f9-b0e4-461d-9c88-559744f8811d",
   "metadata": {},
   "source": [
    "Now let's run a websearch and print the results."
   ]
  },
  {
   "cell_type": "code",
   "execution_count": null,
   "id": "5f5cf9eb-5d52-4ba8-baf7-a8970cd1e286",
   "metadata": {},
   "outputs": [],
   "source": [
    "response = client.responses.create(\n",
    "    model=\"gpt-4o\",\n",
    "    tools=[{\"type\": \"web_search_preview\"}],\n",
    "    input=\"What is the latest news on the Ukraine war peace talks?\"\n",
    ")\n",
    "\n",
    "print(response.output_text)"
   ]
  }
 ],
 "metadata": {
  "kernelspec": {
   "display_name": "Python 3 (ipykernel)",
   "language": "python",
   "name": "python3"
  },
  "language_info": {
   "codemirror_mode": {
    "name": "ipython",
    "version": 3
   },
   "file_extension": ".py",
   "mimetype": "text/x-python",
   "name": "python",
   "nbconvert_exporter": "python",
   "pygments_lexer": "ipython3",
   "version": "3.11.9"
  }
 },
 "nbformat": 4,
 "nbformat_minor": 5
}
