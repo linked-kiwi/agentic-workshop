{
  "nbformat": 4,
  "nbformat_minor": 0,
  "metadata": {
    "colab": {
      "provenance": []
    },
    "kernelspec": {
      "name": "python3",
      "display_name": "Python 3"
    },
    "language_info": {
      "name": "python"
    }
  },
  "cells": [
    {
      "cell_type": "markdown",
      "source": [
        "## AGNO Agentic Framework\n",
        "This notebook demonstrates how to use the Agno agentic framework to make a call to a real world internet service, in this case Wikipedia.  \n",
        "  \n",
        "  We'll start by installing the agno and wikipedia libraries"
      ],
      "metadata": {
        "id": "40lyOq4mwEUt"
      }
    },
    {
      "cell_type": "code",
      "execution_count": null,
      "metadata": {
        "id": "PgmUbB1ZpyfB"
      },
      "outputs": [],
      "source": [
        "%pip install agno wikipedia"
      ]
    },
    {
      "cell_type": "markdown",
      "source": [
        "We'll now import the Agno functions we need to connect to Gemini and Wikipedia, and we'll recover our Gemini key from the vault."
      ],
      "metadata": {
        "id": "Nm7zE9bRwd-H"
      }
    },
    {
      "cell_type": "code",
      "source": [
        "from google.colab import userdata\n",
        "from agno.agent import Agent\n",
        "from agno.models.google import Gemini\n",
        "from agno.tools.wikipedia import WikipediaTools\n",
        "\n",
        "api_key=userdata.get('GEMINI_API_KEY')"
      ],
      "metadata": {
        "id": "MZZl0dAYp_9o"
      },
      "execution_count": 4,
      "outputs": []
    },
    {
      "cell_type": "markdown",
      "source": [
        "We'll now build the agent using Agno and specify that the LLM we'll use is gemini-2.0-flash and the tool we'll use is a wikipedia search tool."
      ],
      "metadata": {
        "id": "TlN-RkcdwrqR"
      }
    },
    {
      "cell_type": "code",
      "source": [
        "agent = Agent(\n",
        "    model=Gemini(id=\"gemini-2.0-flash\",api_key=api_key),\n",
        "    description=\"You are a research assistant specialized in researching wikipedia\",\n",
        "    tools=[WikipediaTools()],\n",
        "    markdown=True\n",
        ")"
      ],
      "metadata": {
        "id": "y-HDozhUqykH"
      },
      "execution_count": 8,
      "outputs": []
    },
    {
      "cell_type": "markdown",
      "source": [
        "We can now make a call to Wikipedia and stream the result out for display."
      ],
      "metadata": {
        "id": "oGTQdDtzw_mO"
      }
    },
    {
      "cell_type": "code",
      "source": [
        "agent.print_response(\"Search wikipedia for 'Shockwave Rider' and summarise the article\", stream=True)"
      ],
      "metadata": {
        "id": "bkc4FHKcraVs"
      },
      "execution_count": null,
      "outputs": []
    }
  ]
}